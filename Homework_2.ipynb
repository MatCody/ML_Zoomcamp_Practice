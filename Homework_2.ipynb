{
 "cells": [
  {
   "cell_type": "code",
   "execution_count": 465,
   "id": "6c6961d2-7ae8-4c7d-8623-5ad607755776",
   "metadata": {},
   "outputs": [],
   "source": [
    "import pandas as pd \n",
    "import numpy as np\n",
    "import seaborn as sns\n",
    "import random"
   ]
  },
  {
   "cell_type": "code",
   "execution_count": 466,
   "id": "9eba26b2-10f6-4ae7-9c17-c980775ce996",
   "metadata": {},
   "outputs": [],
   "source": [
    "%matplotlib inline"
   ]
  },
  {
   "cell_type": "code",
   "execution_count": 467,
   "id": "9f9202a7-3480-4d7e-81d1-68fa5bae6f1a",
   "metadata": {},
   "outputs": [],
   "source": [
    "### some variables will have the 'portuguese' name attuned to it"
   ]
  },
  {
   "cell_type": "code",
   "execution_count": 468,
   "id": "a7f2fd0e-cbb7-4f74-bf4a-243163719c26",
   "metadata": {},
   "outputs": [],
   "source": [
    "casas = pd.read_csv('housing.csv')"
   ]
  },
  {
   "cell_type": "code",
   "execution_count": 469,
   "id": "ab5315fe-911e-4f47-a075-9e9a8c9f70f2",
   "metadata": {},
   "outputs": [
    {
     "data": {
      "text/html": [
       "<div>\n",
       "<style scoped>\n",
       "    .dataframe tbody tr th:only-of-type {\n",
       "        vertical-align: middle;\n",
       "    }\n",
       "\n",
       "    .dataframe tbody tr th {\n",
       "        vertical-align: top;\n",
       "    }\n",
       "\n",
       "    .dataframe thead th {\n",
       "        text-align: right;\n",
       "    }\n",
       "</style>\n",
       "<table border=\"1\" class=\"dataframe\">\n",
       "  <thead>\n",
       "    <tr style=\"text-align: right;\">\n",
       "      <th></th>\n",
       "      <th>longitude</th>\n",
       "      <th>latitude</th>\n",
       "      <th>housing_median_age</th>\n",
       "      <th>total_rooms</th>\n",
       "      <th>total_bedrooms</th>\n",
       "      <th>population</th>\n",
       "      <th>households</th>\n",
       "      <th>median_income</th>\n",
       "      <th>median_house_value</th>\n",
       "      <th>ocean_proximity</th>\n",
       "    </tr>\n",
       "  </thead>\n",
       "  <tbody>\n",
       "    <tr>\n",
       "      <th>0</th>\n",
       "      <td>-122.23</td>\n",
       "      <td>37.88</td>\n",
       "      <td>41.0</td>\n",
       "      <td>880.0</td>\n",
       "      <td>129.0</td>\n",
       "      <td>322.0</td>\n",
       "      <td>126.0</td>\n",
       "      <td>8.3252</td>\n",
       "      <td>452600.0</td>\n",
       "      <td>NEAR BAY</td>\n",
       "    </tr>\n",
       "    <tr>\n",
       "      <th>1</th>\n",
       "      <td>-122.22</td>\n",
       "      <td>37.86</td>\n",
       "      <td>21.0</td>\n",
       "      <td>7099.0</td>\n",
       "      <td>1106.0</td>\n",
       "      <td>2401.0</td>\n",
       "      <td>1138.0</td>\n",
       "      <td>8.3014</td>\n",
       "      <td>358500.0</td>\n",
       "      <td>NEAR BAY</td>\n",
       "    </tr>\n",
       "    <tr>\n",
       "      <th>2</th>\n",
       "      <td>-122.24</td>\n",
       "      <td>37.85</td>\n",
       "      <td>52.0</td>\n",
       "      <td>1467.0</td>\n",
       "      <td>190.0</td>\n",
       "      <td>496.0</td>\n",
       "      <td>177.0</td>\n",
       "      <td>7.2574</td>\n",
       "      <td>352100.0</td>\n",
       "      <td>NEAR BAY</td>\n",
       "    </tr>\n",
       "    <tr>\n",
       "      <th>3</th>\n",
       "      <td>-122.25</td>\n",
       "      <td>37.85</td>\n",
       "      <td>52.0</td>\n",
       "      <td>1274.0</td>\n",
       "      <td>235.0</td>\n",
       "      <td>558.0</td>\n",
       "      <td>219.0</td>\n",
       "      <td>5.6431</td>\n",
       "      <td>341300.0</td>\n",
       "      <td>NEAR BAY</td>\n",
       "    </tr>\n",
       "    <tr>\n",
       "      <th>4</th>\n",
       "      <td>-122.25</td>\n",
       "      <td>37.85</td>\n",
       "      <td>52.0</td>\n",
       "      <td>1627.0</td>\n",
       "      <td>280.0</td>\n",
       "      <td>565.0</td>\n",
       "      <td>259.0</td>\n",
       "      <td>3.8462</td>\n",
       "      <td>342200.0</td>\n",
       "      <td>NEAR BAY</td>\n",
       "    </tr>\n",
       "  </tbody>\n",
       "</table>\n",
       "</div>"
      ],
      "text/plain": [
       "   longitude  latitude  housing_median_age  total_rooms  total_bedrooms  \\\n",
       "0    -122.23     37.88                41.0        880.0           129.0   \n",
       "1    -122.22     37.86                21.0       7099.0          1106.0   \n",
       "2    -122.24     37.85                52.0       1467.0           190.0   \n",
       "3    -122.25     37.85                52.0       1274.0           235.0   \n",
       "4    -122.25     37.85                52.0       1627.0           280.0   \n",
       "\n",
       "   population  households  median_income  median_house_value ocean_proximity  \n",
       "0       322.0       126.0         8.3252            452600.0        NEAR BAY  \n",
       "1      2401.0      1138.0         8.3014            358500.0        NEAR BAY  \n",
       "2       496.0       177.0         7.2574            352100.0        NEAR BAY  \n",
       "3       558.0       219.0         5.6431            341300.0        NEAR BAY  \n",
       "4       565.0       259.0         3.8462            342200.0        NEAR BAY  "
      ]
     },
     "execution_count": 469,
     "metadata": {},
     "output_type": "execute_result"
    }
   ],
   "source": [
    "casas.head()"
   ]
  },
  {
   "cell_type": "code",
   "execution_count": 470,
   "id": "e86a49f7-a9c5-4e71-9a1d-560b64581b08",
   "metadata": {},
   "outputs": [
    {
     "data": {
      "text/plain": [
       "20640"
      ]
     },
     "execution_count": 470,
     "metadata": {},
     "output_type": "execute_result"
    }
   ],
   "source": [
    "len(casas)"
   ]
  },
  {
   "cell_type": "code",
   "execution_count": 471,
   "id": "3e0f2fe9-c4b0-4144-b6ff-f295bb1f2f42",
   "metadata": {},
   "outputs": [],
   "source": [
    "casas1 = casas[casas.ocean_proximity == '<1H OCEAN']\n",
    "casas2 = casas[casas.ocean_proximity == 'INLAND']\n",
    "casas = pd.concat([casas1,casas2], axis=0)"
   ]
  },
  {
   "cell_type": "code",
   "execution_count": 472,
   "id": "392fa4ed-0000-45e0-a253-fa6292ac32e6",
   "metadata": {},
   "outputs": [
    {
     "data": {
      "text/plain": [
       "longitude               0\n",
       "latitude                0\n",
       "housing_median_age      0\n",
       "total_rooms             0\n",
       "total_bedrooms        157\n",
       "population              0\n",
       "households              0\n",
       "median_income           0\n",
       "median_house_value      0\n",
       "ocean_proximity         0\n",
       "dtype: int64"
      ]
     },
     "execution_count": 472,
     "metadata": {},
     "output_type": "execute_result"
    }
   ],
   "source": [
    "## Por aqui verificamos que ha valores missing na coluna total_bedrooms\n",
    "casas.isna().sum()"
   ]
  },
  {
   "cell_type": "markdown",
   "id": "92699419-6fc4-49fb-b320-5be955a2f3f2",
   "metadata": {},
   "source": [
    "## Question 2"
   ]
  },
  {
   "cell_type": "code",
   "execution_count": 473,
   "id": "f9b75176-6d5b-4171-b773-77fe00dbe56e",
   "metadata": {},
   "outputs": [
    {
     "data": {
      "text/html": [
       "<div>\n",
       "<style scoped>\n",
       "    .dataframe tbody tr th:only-of-type {\n",
       "        vertical-align: middle;\n",
       "    }\n",
       "\n",
       "    .dataframe tbody tr th {\n",
       "        vertical-align: top;\n",
       "    }\n",
       "\n",
       "    .dataframe thead th {\n",
       "        text-align: right;\n",
       "    }\n",
       "</style>\n",
       "<table border=\"1\" class=\"dataframe\">\n",
       "  <thead>\n",
       "    <tr style=\"text-align: right;\">\n",
       "      <th></th>\n",
       "      <th>longitude</th>\n",
       "      <th>latitude</th>\n",
       "      <th>housing_median_age</th>\n",
       "      <th>total_rooms</th>\n",
       "      <th>total_bedrooms</th>\n",
       "      <th>population</th>\n",
       "      <th>households</th>\n",
       "      <th>median_income</th>\n",
       "      <th>median_house_value</th>\n",
       "    </tr>\n",
       "  </thead>\n",
       "  <tbody>\n",
       "    <tr>\n",
       "      <th>count</th>\n",
       "      <td>15687.000000</td>\n",
       "      <td>15687.000000</td>\n",
       "      <td>15687.000000</td>\n",
       "      <td>15687.000000</td>\n",
       "      <td>15530.000000</td>\n",
       "      <td>15687.000000</td>\n",
       "      <td>15687.000000</td>\n",
       "      <td>15687.000000</td>\n",
       "      <td>15687.000000</td>\n",
       "    </tr>\n",
       "    <tr>\n",
       "      <th>mean</th>\n",
       "      <td>-119.217442</td>\n",
       "      <td>35.467307</td>\n",
       "      <td>27.188118</td>\n",
       "      <td>2665.677312</td>\n",
       "      <td>541.244688</td>\n",
       "      <td>1466.317205</td>\n",
       "      <td>500.916491</td>\n",
       "      <td>3.804019</td>\n",
       "      <td>191943.020017</td>\n",
       "    </tr>\n",
       "    <tr>\n",
       "      <th>std</th>\n",
       "      <td>1.780380</td>\n",
       "      <td>2.066387</td>\n",
       "      <td>12.057128</td>\n",
       "      <td>2257.672743</td>\n",
       "      <td>435.650018</td>\n",
       "      <td>1180.389908</td>\n",
       "      <td>392.759399</td>\n",
       "      <td>1.857158</td>\n",
       "      <td>108801.077620</td>\n",
       "    </tr>\n",
       "    <tr>\n",
       "      <th>min</th>\n",
       "      <td>-124.140000</td>\n",
       "      <td>32.610000</td>\n",
       "      <td>1.000000</td>\n",
       "      <td>2.000000</td>\n",
       "      <td>2.000000</td>\n",
       "      <td>3.000000</td>\n",
       "      <td>2.000000</td>\n",
       "      <td>0.499900</td>\n",
       "      <td>14999.000000</td>\n",
       "    </tr>\n",
       "    <tr>\n",
       "      <th>25%</th>\n",
       "      <td>-121.070000</td>\n",
       "      <td>33.940000</td>\n",
       "      <td>17.000000</td>\n",
       "      <td>1441.000000</td>\n",
       "      <td>295.000000</td>\n",
       "      <td>802.000000</td>\n",
       "      <td>278.000000</td>\n",
       "      <td>2.520800</td>\n",
       "      <td>111300.000000</td>\n",
       "    </tr>\n",
       "    <tr>\n",
       "      <th>50%</th>\n",
       "      <td>-118.370000</td>\n",
       "      <td>34.160000</td>\n",
       "      <td>27.000000</td>\n",
       "      <td>2118.000000</td>\n",
       "      <td>432.000000</td>\n",
       "      <td>1195.000000</td>\n",
       "      <td>406.000000</td>\n",
       "      <td>3.468800</td>\n",
       "      <td>166900.000000</td>\n",
       "    </tr>\n",
       "    <tr>\n",
       "      <th>75%</th>\n",
       "      <td>-117.990000</td>\n",
       "      <td>37.340000</td>\n",
       "      <td>36.000000</td>\n",
       "      <td>3172.000000</td>\n",
       "      <td>645.000000</td>\n",
       "      <td>1777.000000</td>\n",
       "      <td>602.000000</td>\n",
       "      <td>4.686200</td>\n",
       "      <td>241100.000000</td>\n",
       "    </tr>\n",
       "    <tr>\n",
       "      <th>max</th>\n",
       "      <td>-114.310000</td>\n",
       "      <td>41.950000</td>\n",
       "      <td>52.000000</td>\n",
       "      <td>39320.000000</td>\n",
       "      <td>6445.000000</td>\n",
       "      <td>35682.000000</td>\n",
       "      <td>6082.000000</td>\n",
       "      <td>15.000100</td>\n",
       "      <td>500001.000000</td>\n",
       "    </tr>\n",
       "  </tbody>\n",
       "</table>\n",
       "</div>"
      ],
      "text/plain": [
       "          longitude      latitude  housing_median_age   total_rooms  \\\n",
       "count  15687.000000  15687.000000        15687.000000  15687.000000   \n",
       "mean    -119.217442     35.467307           27.188118   2665.677312   \n",
       "std        1.780380      2.066387           12.057128   2257.672743   \n",
       "min     -124.140000     32.610000            1.000000      2.000000   \n",
       "25%     -121.070000     33.940000           17.000000   1441.000000   \n",
       "50%     -118.370000     34.160000           27.000000   2118.000000   \n",
       "75%     -117.990000     37.340000           36.000000   3172.000000   \n",
       "max     -114.310000     41.950000           52.000000  39320.000000   \n",
       "\n",
       "       total_bedrooms    population    households  median_income  \\\n",
       "count    15530.000000  15687.000000  15687.000000   15687.000000   \n",
       "mean       541.244688   1466.317205    500.916491       3.804019   \n",
       "std        435.650018   1180.389908    392.759399       1.857158   \n",
       "min          2.000000      3.000000      2.000000       0.499900   \n",
       "25%        295.000000    802.000000    278.000000       2.520800   \n",
       "50%        432.000000   1195.000000    406.000000       3.468800   \n",
       "75%        645.000000   1777.000000    602.000000       4.686200   \n",
       "max       6445.000000  35682.000000   6082.000000      15.000100   \n",
       "\n",
       "       median_house_value  \n",
       "count        15687.000000  \n",
       "mean        191943.020017  \n",
       "std         108801.077620  \n",
       "min          14999.000000  \n",
       "25%         111300.000000  \n",
       "50%         166900.000000  \n",
       "75%         241100.000000  \n",
       "max         500001.000000  "
      ]
     },
     "execution_count": 473,
     "metadata": {},
     "output_type": "execute_result"
    }
   ],
   "source": [
    "## here we get the 50% pencetile of the population -> 1195\n",
    "casas.describe()"
   ]
  },
  {
   "cell_type": "markdown",
   "id": "a336c376-db18-4707-acef-29c79da542c6",
   "metadata": {},
   "source": [
    "### here I sample all the values and create variables with specific sizes, also dividing the original dataframe into three"
   ]
  },
  {
   "cell_type": "code",
   "execution_count": 474,
   "id": "e36ad911-7354-4e9b-963c-6cb735069a54",
   "metadata": {},
   "outputs": [],
   "source": [
    "casas_random = casas.sample(frac=1.0,random_state=42)"
   ]
  },
  {
   "cell_type": "code",
   "execution_count": 475,
   "id": "76c0d608-98d6-413d-9e3f-4e59b931d163",
   "metadata": {},
   "outputs": [],
   "source": [
    "casas_random.median_house_value = np.log1p(casas_random.median_house_value)"
   ]
  },
  {
   "cell_type": "code",
   "execution_count": 476,
   "id": "f95d70e8-be97-41e7-a713-bbd4ae4349b7",
   "metadata": {},
   "outputs": [
    {
     "data": {
      "text/html": [
       "<div>\n",
       "<style scoped>\n",
       "    .dataframe tbody tr th:only-of-type {\n",
       "        vertical-align: middle;\n",
       "    }\n",
       "\n",
       "    .dataframe tbody tr th {\n",
       "        vertical-align: top;\n",
       "    }\n",
       "\n",
       "    .dataframe thead th {\n",
       "        text-align: right;\n",
       "    }\n",
       "</style>\n",
       "<table border=\"1\" class=\"dataframe\">\n",
       "  <thead>\n",
       "    <tr style=\"text-align: right;\">\n",
       "      <th></th>\n",
       "      <th>longitude</th>\n",
       "      <th>latitude</th>\n",
       "      <th>housing_median_age</th>\n",
       "      <th>total_rooms</th>\n",
       "      <th>total_bedrooms</th>\n",
       "      <th>population</th>\n",
       "      <th>households</th>\n",
       "      <th>median_income</th>\n",
       "      <th>median_house_value</th>\n",
       "      <th>ocean_proximity</th>\n",
       "    </tr>\n",
       "  </thead>\n",
       "  <tbody>\n",
       "    <tr>\n",
       "      <th>19752</th>\n",
       "      <td>-122.22</td>\n",
       "      <td>40.18</td>\n",
       "      <td>13.0</td>\n",
       "      <td>3719.0</td>\n",
       "      <td>803.0</td>\n",
       "      <td>1754.0</td>\n",
       "      <td>764.0</td>\n",
       "      <td>2.3517</td>\n",
       "      <td>11.395279</td>\n",
       "      <td>INLAND</td>\n",
       "    </tr>\n",
       "    <tr>\n",
       "      <th>8325</th>\n",
       "      <td>-118.29</td>\n",
       "      <td>33.94</td>\n",
       "      <td>38.0</td>\n",
       "      <td>2407.0</td>\n",
       "      <td>630.0</td>\n",
       "      <td>1774.0</td>\n",
       "      <td>562.0</td>\n",
       "      <td>1.5615</td>\n",
       "      <td>11.595436</td>\n",
       "      <td>&lt;1H OCEAN</td>\n",
       "    </tr>\n",
       "    <tr>\n",
       "      <th>1148</th>\n",
       "      <td>-121.36</td>\n",
       "      <td>39.52</td>\n",
       "      <td>15.0</td>\n",
       "      <td>2490.0</td>\n",
       "      <td>527.0</td>\n",
       "      <td>1229.0</td>\n",
       "      <td>497.0</td>\n",
       "      <td>2.3917</td>\n",
       "      <td>11.358620</td>\n",
       "      <td>INLAND</td>\n",
       "    </tr>\n",
       "    <tr>\n",
       "      <th>8893</th>\n",
       "      <td>-118.52</td>\n",
       "      <td>34.01</td>\n",
       "      <td>25.0</td>\n",
       "      <td>2757.0</td>\n",
       "      <td>738.0</td>\n",
       "      <td>1014.0</td>\n",
       "      <td>633.0</td>\n",
       "      <td>3.1433</td>\n",
       "      <td>13.122367</td>\n",
       "      <td>&lt;1H OCEAN</td>\n",
       "    </tr>\n",
       "    <tr>\n",
       "      <th>13084</th>\n",
       "      <td>-121.36</td>\n",
       "      <td>38.57</td>\n",
       "      <td>26.0</td>\n",
       "      <td>1793.0</td>\n",
       "      <td>244.0</td>\n",
       "      <td>653.0</td>\n",
       "      <td>235.0</td>\n",
       "      <td>5.6485</td>\n",
       "      <td>11.771444</td>\n",
       "      <td>INLAND</td>\n",
       "    </tr>\n",
       "  </tbody>\n",
       "</table>\n",
       "</div>"
      ],
      "text/plain": [
       "       longitude  latitude  housing_median_age  total_rooms  total_bedrooms  \\\n",
       "19752    -122.22     40.18                13.0       3719.0           803.0   \n",
       "8325     -118.29     33.94                38.0       2407.0           630.0   \n",
       "1148     -121.36     39.52                15.0       2490.0           527.0   \n",
       "8893     -118.52     34.01                25.0       2757.0           738.0   \n",
       "13084    -121.36     38.57                26.0       1793.0           244.0   \n",
       "\n",
       "       population  households  median_income  median_house_value  \\\n",
       "19752      1754.0       764.0         2.3517           11.395279   \n",
       "8325       1774.0       562.0         1.5615           11.595436   \n",
       "1148       1229.0       497.0         2.3917           11.358620   \n",
       "8893       1014.0       633.0         3.1433           13.122367   \n",
       "13084       653.0       235.0         5.6485           11.771444   \n",
       "\n",
       "      ocean_proximity  \n",
       "19752          INLAND  \n",
       "8325        <1H OCEAN  \n",
       "1148           INLAND  \n",
       "8893        <1H OCEAN  \n",
       "13084          INLAND  "
      ]
     },
     "execution_count": 476,
     "metadata": {},
     "output_type": "execute_result"
    }
   ],
   "source": [
    "casas_random.head()"
   ]
  },
  {
   "cell_type": "code",
   "execution_count": 477,
   "id": "3f2f3570-34ae-449e-85a3-c7dc7c0d643d",
   "metadata": {},
   "outputs": [],
   "source": [
    "sizeData = len(casas_random)\n",
    "val_size = int(0.2*sizeData)\n",
    "test_size = int(0.2*sizeData)\n",
    "train_size = sizeData - val_size - test_size"
   ]
  },
  {
   "cell_type": "code",
   "execution_count": 478,
   "id": "222e298a-7e38-45e8-946d-a5b215ff066d",
   "metadata": {},
   "outputs": [],
   "source": [
    "valData = casas_random.iloc[:val_size]\n",
    "testData = casas_random.iloc[val_size:val_size+test_size]\n",
    "trainData = casas_random.iloc[val_size+test_size:]"
   ]
  },
  {
   "cell_type": "markdown",
   "id": "763af559-b8f2-400e-b3f3-7a41cf0580fd",
   "metadata": {},
   "source": [
    "### the values of median_house_value will be in logarithmic base"
   ]
  },
  {
   "cell_type": "markdown",
   "id": "a9b36381-6c9e-4a23-a347-fce64cda4383",
   "metadata": {},
   "source": [
    "## Question 3"
   ]
  },
  {
   "cell_type": "code",
   "execution_count": 479,
   "id": "dfc59d80-fd5e-4586-b676-2bde8cb17dcd",
   "metadata": {},
   "outputs": [],
   "source": [
    "## filling the values NaN with zero\n",
    "casas_filled_zeros = trainData.copy()\n",
    "casas_filled_zeros.total_bedrooms = casas_filled_zeros.total_bedrooms.fillna(0)\n",
    "column_indices = [i for i, col in enumerate(casas_filled_zeros.columns) if col != 'ocean_proximity']\n",
    "casas_filled_zeros = casas_filled_zeros.iloc[:, column_indices]\n",
    "X_train_zeros = casas_filled_zeros.values"
   ]
  },
  {
   "cell_type": "code",
   "execution_count": 480,
   "id": "5df959a8-7718-45d6-aa09-ede042b4a751",
   "metadata": {},
   "outputs": [
    {
     "data": {
      "text/plain": [
       "longitude             0\n",
       "latitude              0\n",
       "housing_median_age    0\n",
       "total_rooms           0\n",
       "total_bedrooms        0\n",
       "population            0\n",
       "households            0\n",
       "median_income         0\n",
       "median_house_value    0\n",
       "dtype: int64"
      ]
     },
     "execution_count": 480,
     "metadata": {},
     "output_type": "execute_result"
    }
   ],
   "source": [
    "casas_filled_zeros.isna().sum()"
   ]
  },
  {
   "cell_type": "code",
   "execution_count": 481,
   "id": "4e992221-b307-4726-a172-2c89ec84d7b7",
   "metadata": {},
   "outputs": [],
   "source": [
    "## filling the values NaN with the mean value\n",
    "casas_filled_mean = trainData.copy()\n",
    "bedroomsmean = casas_filled_mean.total_bedrooms[casas_filled_mean.total_bedrooms.notna()].mean()\n",
    "casas_filled_mean.total_bedrooms = casas_filled_mean.total_bedrooms.fillna(bedroomsmean)\n",
    "casas_filled_mean = casas_filled_mean.iloc[:, column_indices]\n",
    "X_train_mean = casas_filled_mean.values"
   ]
  },
  {
   "cell_type": "code",
   "execution_count": 482,
   "id": "ad2bc9d8-c31d-4dce-b19f-d56374816d14",
   "metadata": {},
   "outputs": [
    {
     "data": {
      "text/plain": [
       "longitude             0\n",
       "latitude              0\n",
       "housing_median_age    0\n",
       "total_rooms           0\n",
       "total_bedrooms        0\n",
       "population            0\n",
       "households            0\n",
       "median_income         0\n",
       "median_house_value    0\n",
       "dtype: int64"
      ]
     },
     "execution_count": 482,
     "metadata": {},
     "output_type": "execute_result"
    }
   ],
   "source": [
    "casas_filled_mean.isna().sum()"
   ]
  },
  {
   "cell_type": "code",
   "execution_count": 483,
   "id": "0cb65fa2-592f-42c9-b725-9919871f2690",
   "metadata": {},
   "outputs": [],
   "source": [
    "def train_linear_reg(X,Y):\n",
    "    ones = np.ones(X.shape[0])\n",
    "    X = np.column_stack([ones,X])\n",
    "    XTX = X.T@X\n",
    "    XTX_inv = np.linalg.inv(XTX)\n",
    "    w_full = XTX_inv@X.T@(Y)\n",
    "    \n",
    "    return w_full[0], w_full[1:]\n",
    "    "
   ]
  },
  {
   "cell_type": "markdown",
   "id": "7af05961-f8c7-4473-b2b1-ad75ac316ff4",
   "metadata": {},
   "source": [
    "#### using zeros"
   ]
  },
  {
   "cell_type": "code",
   "execution_count": 484,
   "id": "f35d1b06-fc93-4d74-aae4-13577e44324e",
   "metadata": {},
   "outputs": [],
   "source": [
    "y_train_1 = list(casas_filled_zeros.median_house_value)\n",
    "w0_zero, w_zero = train_linear_reg(X_train_zeros,y_train_1)\n",
    "w_zero\n",
    "y_pred1 = w0_zero + X_train_zeros@w_zero\n"
   ]
  },
  {
   "cell_type": "markdown",
   "id": "44baf500-e737-464f-b628-54ed94d32aaf",
   "metadata": {},
   "source": [
    "#### using the mean"
   ]
  },
  {
   "cell_type": "code",
   "execution_count": 485,
   "id": "72335707-c5ac-4eb8-bd4e-34b1a7058c67",
   "metadata": {},
   "outputs": [],
   "source": [
    "y_train_2 = list(casas_filled_mean.median_house_value)\n",
    "w0_mean, w_mean = train_linear_reg(X_train_mean,casas_filled_mean.median_house_value)\n",
    "w_mean\n",
    "y_pred2 = w0_mean + X_train_mean@w_mean"
   ]
  },
  {
   "cell_type": "markdown",
   "id": "f88ad4e2-abb6-41e4-add9-25612905a840",
   "metadata": {},
   "source": [
    "## Functions"
   ]
  },
  {
   "cell_type": "code",
   "execution_count": 486,
   "id": "bfe054f4-016c-4a5f-8bc1-e0c282f6c1a7",
   "metadata": {},
   "outputs": [],
   "source": [
    "def rmse(y, y_pred):\n",
    "    error = (y - y_pred)**2\n",
    "    meansq = error.mean()\n",
    "    return np.sqrt(meansq)"
   ]
  },
  {
   "cell_type": "code",
   "execution_count": 487,
   "id": "9facfa03-bd56-4577-b60a-f0ebb398d729",
   "metadata": {},
   "outputs": [],
   "source": [
    "def preparing_X(df):\n",
    "    #colq = list(df.columns[df.isna().any()])\n",
    "    copia = df.copy()\n",
    "    copia.total_bedrooms = copia.total_bedrooms.fillna(0)\n",
    "    column_indices = [i for i, col in enumerate(copia.columns) if col != 'ocean_proximity']\n",
    "    copia = copia.iloc[:, column_indices]\n",
    "    return copia.values"
   ]
  },
  {
   "cell_type": "code",
   "execution_count": 488,
   "id": "a7b55a6a-0b11-40b9-b83c-1801d301924c",
   "metadata": {},
   "outputs": [
    {
     "data": {
      "text/plain": [
       "0.79"
      ]
     },
     "execution_count": 488,
     "metadata": {},
     "output_type": "execute_result"
    }
   ],
   "source": [
    "X_test1 = preparing_X(testData)\n",
    "X_val1 = preparing_X(valData)\n",
    "\n",
    "y_pred_test1 = w0_zero + X_test1@w_zero\n",
    "y_pred_val1 = w0_zero + X_val1@w_zero\n",
    "round(rmse(y_pred_test1,y_pred_val1),2)"
   ]
  },
  {
   "cell_type": "code",
   "execution_count": 489,
   "id": "2cbab689-d891-4308-bfd4-c6e492a55136",
   "metadata": {},
   "outputs": [
    {
     "data": {
      "text/plain": [
       "0.79"
      ]
     },
     "execution_count": 489,
     "metadata": {},
     "output_type": "execute_result"
    }
   ],
   "source": [
    "y_pred_test2 = w0_mean + X_test1@w_mean\n",
    "y_pred_val2 = w0_mean + X_val1@w_mean\n",
    "round(rmse(y_pred_test2,y_pred_val2),2)\n"
   ]
  },
  {
   "cell_type": "markdown",
   "id": "c88a02cf-f7a0-4da2-9ba9-c4d8631b03cb",
   "metadata": {},
   "source": [
    "## Question 4"
   ]
  },
  {
   "cell_type": "code",
   "execution_count": 490,
   "id": "c3ee0814-41e9-4b32-b500-e6f172b23233",
   "metadata": {},
   "outputs": [],
   "source": [
    "r = [0, 0.000001, 0.0001, 0.001, 0.01, 0.1, 1, 5, 10]"
   ]
  },
  {
   "cell_type": "code",
   "execution_count": 491,
   "id": "9a568c7f-de16-4d26-8656-191da7b9c8ec",
   "metadata": {},
   "outputs": [],
   "source": [
    "def train_linear_reg_regulized(X,Y,r):\n",
    "    ones = np.ones(X.shape[0])\n",
    "    X = np.column_stack([ones,X])\n",
    "    \n",
    "    XTX = X.T@(X)\n",
    "    XTX = XTX + r*np.eye(XTX.shape[0])\n",
    "    XTX_inv = np.linalg.inv(XTX)\n",
    "    w_full = XTX_inv@X.T@(Y)\n",
    "    \n",
    "    return w_full[0], w_full[1:]\n",
    "    "
   ]
  },
  {
   "cell_type": "code",
   "execution_count": 492,
   "id": "4921798c-1eb3-4412-a7b9-fc21726a82ea",
   "metadata": {},
   "outputs": [],
   "source": [
    "rmseValues = np.zeros(len(r))\n",
    "for i in range(len(r)):\n",
    "    w0_zero, w_zero = train_linear_reg_regulized(X_train_zeros,casas_filled_zeros.median_house_value,i)\n",
    "    w_zero\n",
    "    y_pred1 = w0_zero + X_train_zeros@w_zero\n",
    "    X_test1 = preparing_X(testData)\n",
    "    X_val1 = preparing_X(valData)\n",
    "    y_pred_test1 = w0_zero + X_test1@w_zero\n",
    "    y_pred_val1 = w0_zero + X_val1@w_zero\n",
    "    rmseValues[i] = rmse(y_pred_test1,y_pred_val1)\n",
    "    "
   ]
  },
  {
   "cell_type": "code",
   "execution_count": 493,
   "id": "99d93a62-b760-418e-9cdf-401f2335af5c",
   "metadata": {},
   "outputs": [
    {
     "data": {
      "text/plain": [
       "0"
      ]
     },
     "execution_count": 493,
     "metadata": {},
     "output_type": "execute_result"
    }
   ],
   "source": [
    "list(rmseValues).index(rmseValues.max())\n"
   ]
  },
  {
   "cell_type": "markdown",
   "id": "64e839ad-af5c-4516-a127-0cb6b7202c59",
   "metadata": {},
   "source": [
    "## Question 5"
   ]
  },
  {
   "cell_type": "code",
   "execution_count": 494,
   "id": "72b26297-2899-48a6-9e23-ff6b84c173b3",
   "metadata": {},
   "outputs": [],
   "source": [
    "random_seeds = [0, 1, 2, 3, 4, 5, 6, 7, 8, 9]"
   ]
  },
  {
   "cell_type": "code",
   "execution_count": 495,
   "id": "c1a766ad-7c63-46df-9d26-25ed8d70cfb8",
   "metadata": {},
   "outputs": [
    {
     "data": {
      "text/plain": [
       "0.01"
      ]
     },
     "execution_count": 495,
     "metadata": {},
     "output_type": "execute_result"
    }
   ],
   "source": [
    "standard_deviation_seeds = np.zeros(10)\n",
    "for i in range(10):\n",
    "    casas_random = casas.sample(frac=1.0,random_state=i)\n",
    "    casas_random.median_house_value = np.log1p(casas_random.median_house_value)\n",
    "    sizeData = len(casas_random)\n",
    "    val_size = int(0.2*sizeData)\n",
    "    test_size = int(0.2*sizeData)\n",
    "    train_size = sizeData - val_size - test_size\n",
    "    valData = casas_random.iloc[:val_size]\n",
    "    testData = casas_random.iloc[val_size:val_size+test_size]\n",
    "    trainData = casas_random.iloc[val_size+test_size:]\n",
    "    ## filling the values NaN with zero\n",
    "    casas_filled_zeros = trainData.copy()\n",
    "    casas_filled_zeros.total_bedrooms = casas_filled_zeros.total_bedrooms.fillna(0)\n",
    "    column_indices = [i for i, col in enumerate(casas_filled_zeros.columns) if col != 'ocean_proximity']\n",
    "    casas_filled_zeros = casas_filled_zeros.iloc[:, column_indices]\n",
    "    X_train_zeros = preparing_X(trainData)\t\n",
    "    X_test1 = preparing_X(testData)\n",
    "    X_val1 = preparing_X(valData)\n",
    "    y_train_1 = list(casas_filled_zeros.median_house_value)\n",
    "    w0_zero, w_zero = train_linear_reg(X_train_zeros,y_train_1)\n",
    "    y_pred_test1 = w0_zero + X_test1@w_zero\n",
    "    y_pred_val1 = w0_zero + X_val1@w_zero\n",
    "    y_pred_train1 = w0_zero + X_train_zeros@w_zero\n",
    "    standard_deviation_seeds[i] = round(rmse(y_pred_test1,y_pred_val1),6)\n",
    "    \n",
    "round(np.std(standard_deviation_seeds),3)\n"
   ]
  },
  {
   "cell_type": "markdown",
   "id": "c624c156-49d5-44df-9d03-cc0f6edd7137",
   "metadata": {},
   "source": [
    "## Question 6"
   ]
  },
  {
   "cell_type": "code",
   "execution_count": 496,
   "id": "2492b996-a397-4026-939a-017e7078d36c",
   "metadata": {},
   "outputs": [],
   "source": [
    "casas_random = casas.sample(frac=1.0,random_state=9)"
   ]
  },
  {
   "cell_type": "code",
   "execution_count": 497,
   "id": "36b096b5-8502-48ac-b23f-823d47871dd4",
   "metadata": {},
   "outputs": [],
   "source": [
    "casas_random.median_house_value = np.log1p(casas_random.median_house_value)"
   ]
  },
  {
   "cell_type": "code",
   "execution_count": 498,
   "id": "b2645005-261d-4f01-970b-ef546c8f3d68",
   "metadata": {},
   "outputs": [],
   "source": [
    "sizeData = len(casas_random)\n",
    "val_test_size = int(0.4*sizeData)\n",
    "train_size = sizeData - val_test_size"
   ]
  },
  {
   "cell_type": "code",
   "execution_count": 499,
   "id": "8a90d37a-4c4b-4e8e-a7ca-fbe1e4b0e41b",
   "metadata": {},
   "outputs": [],
   "source": [
    "valTestData = casas_random.iloc[:val_test_size]\n",
    "trainData = casas_random.iloc[val_test_size:]"
   ]
  },
  {
   "cell_type": "code",
   "execution_count": 500,
   "id": "e85e2af0-3ba9-44ef-8083-61541a4efa20",
   "metadata": {},
   "outputs": [],
   "source": [
    "## filling the values NaN with zero\n",
    "casas_filled_zeros = trainData.copy()\n",
    "casas_filled_zeros.total_bedrooms = casas_filled_zeros.total_bedrooms.fillna(0)\n",
    "column_indices = [i for i, col in enumerate(casas_filled_zeros.columns) if col != 'ocean_proximity']\n",
    "casas_filled_zeros = casas_filled_zeros.iloc[:, column_indices]\n",
    "X_train_zeros = casas_filled_zeros.values"
   ]
  },
  {
   "cell_type": "code",
   "execution_count": 501,
   "id": "3e8e3f36-c698-4cee-9a57-38dbc7e92c68",
   "metadata": {},
   "outputs": [],
   "source": [
    "valTestDataPrepared = preparing_X(valTestData)\n",
    "testando = valTestData.median_house_value.values"
   ]
  },
  {
   "cell_type": "code",
   "execution_count": 508,
   "id": "59807b26-2025-4d63-9017-7e653056dacf",
   "metadata": {},
   "outputs": [
    {
     "data": {
      "text/plain": [
       "12.07254696717504"
      ]
     },
     "execution_count": 508,
     "metadata": {},
     "output_type": "execute_result"
    }
   ],
   "source": [
    "y_train_1 = list(trainData.median_house_value)\n",
    "w0_zero, w_zero = train_linear_reg_regulized(X_train_zeros,y_train_1,0.001)\n",
    "y_test1 = w0_zero + valTestDataPrepared@w_zero"
   ]
  },
  {
   "cell_type": "code",
   "execution_count": 504,
   "id": "b2696b55-be4c-4a36-9c9a-0eef8c09d7f2",
   "metadata": {},
   "outputs": [
    {
     "data": {
      "text/plain": [
       "3.2678254063927675e-07"
      ]
     },
     "execution_count": 504,
     "metadata": {},
     "output_type": "execute_result"
    }
   ],
   "source": [
    "rmse(y_test1,testando)\n",
    "# operands could not be broadcast together with shapes (9413,) (6274,) ???"
   ]
  },
  {
   "cell_type": "code",
   "execution_count": null,
   "id": "f80676d1-c6e1-4bf5-987f-4df1445cf4a3",
   "metadata": {},
   "outputs": [],
   "source": []
  }
 ],
 "metadata": {
  "kernelspec": {
   "display_name": "Python 3 (ipykernel)",
   "language": "python",
   "name": "python3"
  },
  "language_info": {
   "codemirror_mode": {
    "name": "ipython",
    "version": 3
   },
   "file_extension": ".py",
   "mimetype": "text/x-python",
   "name": "python",
   "nbconvert_exporter": "python",
   "pygments_lexer": "ipython3",
   "version": "3.9.13"
  }
 },
 "nbformat": 4,
 "nbformat_minor": 5
}
